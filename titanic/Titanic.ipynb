{
 "cells": [
  {
   "cell_type": "code",
   "execution_count": 1,
   "metadata": {
    "collapsed": true
   },
   "outputs": [],
   "source": [
    "import pandas as pd\n",
    "import numpy as np\n",
    "import time\n",
    "from sklearn.linear_model import LogisticRegression\n",
    "from sklearn.neighbors import KNeighborsClassifier\n",
    "from sklearn.neural_network import MLPClassifier\n",
    "from sklearn.svm import SVC\n",
    "from sklearn.model_selection import GridSearchCV\n",
    "from sklearn.metrics import accuracy_score\n",
    "pd.set_option('display.max_columns', 500)\n",
    "pd.set_option('display.width', 1000)"
   ]
  },
  {
   "cell_type": "code",
   "execution_count": 2,
   "metadata": {
    "collapsed": true
   },
   "outputs": [],
   "source": [
    "def sets():\n",
    "    \"\"\"\n",
    "    Output:\n",
    "    \n",
    "        - train  : DataFrame\n",
    "        - y_train: Series\n",
    "        - test.  : DataFrame\n",
    "    \"\"\"\n",
    "    \n",
    "    def clean(df):\n",
    "        \"\"\"\n",
    "        Input: DataFrame\n",
    "        Output: DataFrame\n",
    "        \n",
    "        Insert new columns 'Child' and 'Group' into df and clean it.\n",
    "        \"\"\"\n",
    "\n",
    "        cols_to_drop = [\n",
    "                       'Embarked',\n",
    "                       'Age',\n",
    "                       'Name',\n",
    "                       'Cabin',\n",
    "                       'Ticket',\n",
    "                       'Fare'\n",
    "                       ]\n",
    "\n",
    "        extra_cols = df['Name'].str.extract(r'\\w+,\\s(?P<Child>\\w+)', expand=False)\n",
    "        df = pd.concat([df, extra_cols], axis=1)\n",
    "        df['Child'] = np.where((df['Child'] == 'Master') |\n",
    "                               ((df['Child'] == 'Miss') & (df['Age'] < 16)), 'child', 'adult')\n",
    "        df[['Ticket', 'Fare']] = df[['Ticket', 'Fare']].astype(str)\n",
    "        df['Group'] = df[['Ticket', 'Fare']].apply(lambda x: ''.join(x), axis=1)\n",
    "        df['Pclass'] = df['Pclass'].map({1: 'first', 2: 'second', 3: 'third'})\n",
    "        \n",
    "        df.drop(cols_to_drop, axis=1, inplace=True)\n",
    "        \n",
    "        return df\n",
    "    \n",
    "\n",
    "    train = clean(pd.read_csv('dataset/train.csv'))\n",
    "    test = clean(pd.read_csv('dataset/test.csv'))\n",
    "    \n",
    "    y_train = train['Survived']\n",
    "    \n",
    "    return train, y_train, test\n",
    "\n",
    "\n",
    "def prepro_train(df):\n",
    "    \n",
    "    res = df.copy()\n",
    "    \n",
    "    res['friends_alive'] = 0\n",
    "    res['friends_alive_male'] = 0\n",
    "    for i in res.index:\n",
    "        pas_id = res.loc[i, 'PassengerId']\n",
    "        gr = res.loc[i, 'Group']\n",
    "        sex = res.loc[i, 'Sex']\n",
    "        friends_alive = res[(res['Group']==gr) &\n",
    "                                (res['PassengerId'] != pas_id) &\n",
    "                                (res['Survived'] == 1)]\n",
    "        res.loc[i, 'friends_alive'] = len(friends_alive)\n",
    "        if sex == 'male':\n",
    "            friends_alive_male = friends_alive[friends_alive['Sex']=='male']\n",
    "            if len(friends_alive_male):\n",
    "                res.loc[i, 'friends_alive_male'] = 1\n",
    "\n",
    "\n",
    "    res['sons'] = 0\n",
    "    res['sons_dead'] = 0\n",
    "    for i in res.index:\n",
    "        pas_id = res.loc[i, 'PassengerId']\n",
    "        gr = res.loc[i, 'Group']\n",
    "        adult_woman = (res.loc[i, 'Child'] == 'adult') and (res.loc[i, 'Sex'] == 'female')\n",
    "        if adult_woman:\n",
    "            sons = res[(res['Group']==gr) &\n",
    "                           (res['Child']=='child')]\n",
    "            sons_dead = sons[sons['Survived'] == 0]\n",
    "            res.loc[i, 'sons'] = len(sons)\n",
    "            res.loc[i, 'sons_dead'] = len(sons_dead)\n",
    "    \n",
    "    return res\n",
    "\n",
    "\n",
    "def prepro_real(df1, df2):\n",
    "    \n",
    "    res = df1.copy()\n",
    "    \n",
    "    res['friends_alive'] = 0\n",
    "    res['friends_alive_male'] = 0\n",
    "    for i in res.index:\n",
    "        pas_id = res.loc[i, 'PassengerId']\n",
    "        gr = res.loc[i, 'Group']\n",
    "        sex = res.loc[i, 'Sex']\n",
    "        friends_alive = df2[(df2['Group']==gr) &\n",
    "                            (df2['PassengerId'] != pas_id) &\n",
    "                            (df2['Survived'] == 1)]\n",
    "        res.loc[i, 'friends_alive'] = len(friends_alive)\n",
    "        if sex == 'male':\n",
    "            friends_alive_male = friends_alive[friends_alive['Sex']=='male']\n",
    "            if len(friends_alive_male):\n",
    "                res.loc[i, 'friends_alive_male'] = 1\n",
    "\n",
    "\n",
    "    res['sons'] = 0\n",
    "    res['sons_dead'] = 0\n",
    "    for i in res.index:\n",
    "        pas_id = res.loc[i, 'PassengerId']\n",
    "        gr = res.loc[i, 'Group']\n",
    "        adult_woman = (res.loc[i, 'Child'] == 'adult') and (res.loc[i, 'Sex'] == 'female')\n",
    "        if adult_woman:\n",
    "            sons = df2[(df2['Group']==gr) &\n",
    "                       (df2['Child']=='child')]\n",
    "            sons_dead = sons[sons['Survived'] == 0]\n",
    "            res.loc[i, 'sons'] = len(sons)\n",
    "            res.loc[i, 'sons_dead'] = len(sons_dead)\n",
    "    \n",
    "    return res"
   ]
  },
  {
   "cell_type": "code",
   "execution_count": 3,
   "metadata": {},
   "outputs": [],
   "source": [
    "X_train, y_train, X_real = sets()\n",
    "\n",
    "X_train = prepro_train(X_train)\n",
    "X_real = prepro_real(X_real, X_train)\n",
    "\n",
    "info_tr = X_train[['PassengerId', 'SibSp', 'Parch', 'Group',\n",
    "                   'Survived', 'Sex', 'Child', 'Pclass']]\n",
    "X_train.drop(['PassengerId',\n",
    "              'Group',\n",
    "              'Survived'], axis=1, inplace=True)\n",
    "X_train = pd.get_dummies(X_train)\n",
    "\n",
    "\n",
    "info_re = X_real[['PassengerId', 'SibSp', 'Parch',\n",
    "                  'Group', 'Sex', 'Child', 'Pclass']]\n",
    "X_real.drop(['PassengerId',\n",
    "             'Group'], axis=1, inplace=True)\n",
    "X_real = pd.get_dummies(X_real)"
   ]
  },
  {
   "cell_type": "code",
   "execution_count": 4,
   "metadata": {},
   "outputs": [
    {
     "name": "stdout",
     "output_type": "stream",
     "text": [
      "Best paremeters: {'C': 4.5999999999999996, 'solver': 'newton-cg'}\n",
      "Best score: 0.8237934904601572\n",
      "Running time: 0.2 min\n"
     ]
    }
   ],
   "source": [
    "lr_values = {\n",
    "             'C': [i for i in np.arange(0.1, 10, 0.1)],\n",
    "             'solver': ['newton-cg', 'lbfgs', 'liblinear', 'sag'],\n",
    "             }\n",
    "\n",
    "lr = LogisticRegression(max_iter=1000)\n",
    "start = time.time()\n",
    "lr_acc = GridSearchCV(lr, param_grid=lr_values, scoring='accuracy').fit(X_train, y_train)\n",
    "print('Best paremeters: {}'.format(lr_acc.best_params_))\n",
    "print('Best score: {}'.format(lr_acc.best_score_))\n",
    "print('Running time: {} min'.format(round((time.time() - start)/60, 1)))\n",
    "\n",
    "lr = lr_acc.best_estimator_.fit(X_train, y_train)"
   ]
  },
  {
   "cell_type": "code",
   "execution_count": 5,
   "metadata": {},
   "outputs": [
    {
     "name": "stdout",
     "output_type": "stream",
     "text": [
      "Best paremeters: {'algorithm': 'brute', 'n_neighbors': 7, 'weights': 'uniform'}\n",
      "Best score: 0.8372615039281706\n",
      "Running time: 0.1 min\n"
     ]
    }
   ],
   "source": [
    "knn_values = {\n",
    "              'n_neighbors': [i for i in range(1, 20)],\n",
    "              'weights': ['uniform', 'distance'],\n",
    "              'algorithm': ['auto', 'ball_tree', 'kd_tree', 'brute']\n",
    "              }\n",
    "\n",
    "knn = KNeighborsClassifier()\n",
    "start = time.time()\n",
    "knn_acc = GridSearchCV(knn, param_grid=knn_values, scoring='accuracy').fit(X_train, y_train)\n",
    "print('Best paremeters: {}'.format(knn_acc.best_params_))\n",
    "print('Best score: {}'.format(knn_acc.best_score_))\n",
    "print('Running time: {} min'.format(round((time.time() - start)/60, 1)))\n",
    "\n",
    "knn = knn_acc.best_estimator_.fit(X_train, y_train)"
   ]
  },
  {
   "cell_type": "code",
   "execution_count": 6,
   "metadata": {},
   "outputs": [
    {
     "name": "stdout",
     "output_type": "stream",
     "text": [
      "Best paremeters: {'C': 0.5, 'gamma': 0.1, 'kernel': 'rbf'}\n",
      "Best score: 0.8361391694725028\n",
      "Running time: 0.1 min\n"
     ]
    }
   ],
   "source": [
    "svc_values = {\n",
    "             'C': [i for i in np.arange(0.1, 2, 0.1)],\n",
    "             'kernel': ['rbf', 'sigmoid'],\n",
    "             'gamma': [0.001, 0.01, 0.1, 1]\n",
    "             }\n",
    "\n",
    "svc = SVC(random_state=0)\n",
    "start = time.time()\n",
    "svc_acc = GridSearchCV(svc, param_grid=svc_values, scoring='accuracy').fit(X_train, y_train)\n",
    "print('Best paremeters: {}'.format(svc_acc.best_params_))\n",
    "print('Best score: {}'.format(svc_acc.best_score_))\n",
    "print('Running time: {} min'.format(round((time.time() - start)/60, 1)))\n",
    "\n",
    "svc = svc_acc.best_estimator_.fit(X_train, y_train)"
   ]
  },
  {
   "cell_type": "code",
   "execution_count": null,
   "metadata": {},
   "outputs": [],
   "source": [
    "nn_values = {\n",
    "             'hidden_layer_sizes': [(100,), (20,),\n",
    "                                    (20, 100), (100, 20),\n",
    "                                    (10, 50, 100), (100, 50, 10)],\n",
    "             'solver': ['lbfgs', 'sgd', 'adam'],\n",
    "             'alpha': [0.001, 0.01, 0.1],\n",
    "             }\n",
    "\n",
    "nn = MLPClassifier(max_iter=1000, random_state=0)\n",
    "start = time.time()\n",
    "nn_acc = GridSearchCV(nn, param_grid=nn_values, scoring='accuracy').fit(X_train, y_train)\n",
    "print('Best paremeters: {}'.format(nn_acc.best_params_))\n",
    "print('Best score: {}'.format(nn_acc.best_score_))\n",
    "print('Running time: {} min'.format(round((time.time() - start)/60, 1)))\n",
    "\n",
    "nn = nn_acc.best_estimator_.fit(X_train, y_train)"
   ]
  },
  {
   "cell_type": "code",
   "execution_count": null,
   "metadata": {},
   "outputs": [],
   "source": [
    "preds = knn.predict(X_real)\n",
    "\n",
    "test_id = info_re['PassengerId']\n",
    "res = np.column_stack((test_id.values, preds))\n",
    "\n",
    "np.savetxt('/Users/andrea/Desktop/titanic_preds.csv', res, delimiter=',', header='PassengerId,Survived',\n",
    "           fmt='%i,%i', comments='')"
   ]
  }
 ],
 "metadata": {
  "kernelspec": {
   "display_name": "Python 3",
   "language": "python",
   "name": "python3"
  },
  "language_info": {
   "codemirror_mode": {
    "name": "ipython",
    "version": 3
   },
   "file_extension": ".py",
   "mimetype": "text/x-python",
   "name": "python",
   "nbconvert_exporter": "python",
   "pygments_lexer": "ipython3",
   "version": "3.6.1"
  }
 },
 "nbformat": 4,
 "nbformat_minor": 2
}
